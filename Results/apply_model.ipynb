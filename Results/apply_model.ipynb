{
 "cells": [
  {
   "cell_type": "code",
   "execution_count": 1,
   "metadata": {},
   "outputs": [
    {
     "name": "stderr",
     "output_type": "stream",
     "text": [
      "C:\\Users\\Dell\\Anaconda3\\lib\\site-packages\\gensim\\utils.py:1197: UserWarning: detected Windows; aliasing chunkize to chunkize_serial\n",
      "  warnings.warn(\"detected Windows; aliasing chunkize to chunkize_serial\")\n"
     ]
    }
   ],
   "source": [
    "import gensim\n",
    "import sys\n",
    "sys.path.append('../Training/')\n",
    "from res import *"
   ]
  },
  {
   "cell_type": "code",
   "execution_count": 30,
   "metadata": {},
   "outputs": [],
   "source": [
    "df=pd.read_csv('../Data/cleanTweets.csv',na_values={'None','NONE'})\n",
    "\n",
    "df=df.replace(r'^\\s*$', np.nan, regex=True)\n",
    "df=df.fillna('')"
   ]
  },
  {
   "cell_type": "code",
   "execution_count": 24,
   "metadata": {},
   "outputs": [
    {
     "name": "stderr",
     "output_type": "stream",
     "text": [
      "C:\\Users\\Dell\\Anaconda3\\lib\\site-packages\\smart_open\\smart_open_lib.py:398: UserWarning: This function is deprecated, use smart_open.open instead. See the migration notes for details: https://github.com/RaRe-Technologies/smart_open/blob/master/README.rst#migrating-to-the-new-open-function\n",
      "  'See the migration notes for details: %s' % _MIGRATION_NOTES_URL\n"
     ]
    }
   ],
   "source": [
    "#loading SVM model\n",
    "sl='../Training/learnWV8_1.sav' \n",
    "Llearn_obj=pickle.load(open(sl,'rb'))\n",
    "\n",
    "#loading Word2Vec model\n",
    "str_='../Training/w2v1_9_ESW5_C_swmod3_s_w2'\n",
    "word2vec_path = str_+\".bin\"\n",
    "word2vec = gensim.models.KeyedVectors.load_word2vec_format(word2vec_path, binary=True)"
   ]
  },
  {
   "cell_type": "code",
   "execution_count": 33,
   "metadata": {},
   "outputs": [],
   "source": [
    "#This cell computes sentiment class for each tweet and corrosponding confidence score\n",
    "import ast\n",
    "\n",
    "def conf(arg):\n",
    "    return max(arg[0],arg[1],arg[2])\n",
    "\n",
    "df['tokens']=df.apply(lambda arg: ast.literal_eval(arg['tokens']),axis=1)\n",
    "\n",
    "embed = get_word2vec_embeddings(word2vec, df)\n",
    "\n",
    "df['pred']=Llearn_obj.predict(embed) #predicting sentiment class \n",
    "df['conf']=list(map(conf,Llearn_obj.predict_proba(embed))) #computing proability corrosponding to most confident prediction"
   ]
  },
  {
   "cell_type": "code",
   "execution_count": 35,
   "metadata": {},
   "outputs": [],
   "source": [
    "df.to_csv('cleanTweets_pred_prob.csv',index=None,header=True) "
   ]
  }
 ],
 "metadata": {
  "kernelspec": {
   "display_name": "Python 3",
   "language": "python",
   "name": "python3"
  },
  "language_info": {
   "codemirror_mode": {
    "name": "ipython",
    "version": 3
   },
   "file_extension": ".py",
   "mimetype": "text/x-python",
   "name": "python",
   "nbconvert_exporter": "python",
   "pygments_lexer": "ipython3",
   "version": "3.7.1"
  }
 },
 "nbformat": 4,
 "nbformat_minor": 2
}
