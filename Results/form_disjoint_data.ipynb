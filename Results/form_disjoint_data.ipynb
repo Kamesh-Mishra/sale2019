{
 "cells": [
  {
   "cell_type": "code",
   "execution_count": 3,
   "metadata": {
    "scrolled": false
   },
   "outputs": [],
   "source": [
    "import pandas as pd\n",
    "import numpy as np\n",
    "import matplotlib.pyplot as plt\n",
    "import matplotlib\n",
    "import re\n",
    "import random\n",
    "import pickle\n",
    "\n",
    "\n",
    "#pattern strings p_bjp and p_congress below are used to find tweets exclusively related to political parties \"BJP\" and \"CONGRESS\"\n",
    "p_bjp=r'bjp|nda|modi|subramanian|gadkari|smriti|irani|chowkidar|maneka|amit|shah|rajnath|sushma|yogi|adityanath|sambit|patra|narendra|pragya|saffron party|namo|tejasvi|surya|karyakarta|feku|bhakt|javadekar|jaitley'\n",
    "p_congress=r'congress|upa|rahul|sonia|priyanka|shashi|gandhi|tharoor|pappu|jyotiraditya|scindia|sachin|congi|pilot|chidambaram|captain|amrinder|ashok|gehlot|rg|pgv|raga|pranab|manmohan|maunmohan|navjot|sidhu|siddhu|congres|inc|raul|vinci|soniya|ghandy|cwc|surjewala|chamcha'"
   ]
  },
  {
   "cell_type": "code",
   "execution_count": 20,
   "metadata": {},
   "outputs": [],
   "source": [
    "df=pd.read_csv('cleanTweets_pred_prob.csv',na_values={'None','NONE'})\n",
    "\n",
    "df=df.replace(r'^\\s*$', np.nan, regex=True)\n",
    "df=df.fillna('')"
   ]
  },
  {
   "cell_type": "code",
   "execution_count": 8,
   "metadata": {},
   "outputs": [
    {
     "data": {
      "text/plain": [
       "0          nobody anything much image sold single opposi...\n",
       "1          baap congress ki raaj mein yeh kya ho raha ha...\n",
       "2                                   woman took god congress\n",
       "3                                   leading electionresults\n",
       "4                  congress need serious structural changes\n",
       "                                ...                        \n",
       "398744               may best candidate win electionresults\n",
       "398745     starts next five years conversations start pa...\n",
       "398746     modi meant meant inclusive india never believ...\n",
       "398747                                      chokidar chor h\n",
       "398748     lok sabha election results live updates told ...\n",
       "Name: pros_text4, Length: 398749, dtype: object"
      ]
     },
     "execution_count": 8,
     "metadata": {},
     "output_type": "execute_result"
    }
   ],
   "source": [
    "df['pros_text']"
   ]
  },
  {
   "cell_type": "code",
   "execution_count": 22,
   "metadata": {},
   "outputs": [],
   "source": [
    "def f_bjp(arg):#tweets related to exclusively bjp\n",
    "    s=arg['pros_text']\n",
    "    if re.search(p_bjp,s, re.IGNORECASE)!=None and re.search(p_congress,s, re.IGNORECASE)==None:\n",
    "        return 1\n",
    "    else:\n",
    "        return 0\n",
    "    \n",
    "def f_congress(arg):#tweets related to exclusively congress\n",
    "    s=arg['pros_text']\n",
    "    if re.search(p_congress,s, re.IGNORECASE)!=None and re.search(p_bjp,s, re.IGNORECASE)==None:\n",
    "        return 1\n",
    "    else:\n",
    "        return 0"
   ]
  },
  {
   "cell_type": "code",
   "execution_count": 36,
   "metadata": {},
   "outputs": [],
   "source": [
    "df['bjp']=df.apply(f_bjp,axis=1)\n",
    "df['congress']=df.apply(f_congress,axis=1)"
   ]
  },
  {
   "cell_type": "code",
   "execution_count": 37,
   "metadata": {},
   "outputs": [
    {
     "name": "stdout",
     "output_type": "stream",
     "text": [
      "0    1\n",
      "1    0\n",
      "2    0\n",
      "3    0\n",
      "4    0\n",
      "Name: bjp, dtype: int64\n",
      "0    0\n",
      "1    1\n",
      "2    1\n",
      "3    0\n",
      "4    1\n",
      "Name: congress, dtype: int64\n"
     ]
    }
   ],
   "source": [
    "print(df['bjp'].head())\n",
    "print(df['congress'].head())"
   ]
  },
  {
   "cell_type": "code",
   "execution_count": 38,
   "metadata": {},
   "outputs": [],
   "source": [
    "df_bjp=df.loc[df.index[df['bjp']==1]].copy()\n",
    "df_congress=df.loc[df.index[df['congress']==1]].copy()\n",
    "\n",
    "df.to_csv('cleanTweets_pred_prob_BJP_CONG.csv',index=None,header=True) \n",
    "#df_bjp.to_csv('cleanTweets_pred_prob_BJP.csv',index=None,header=True) \n",
    "#df_congress.to_csv('cleanTweets_pred_prob_CONG.csv',index=None,header=True)"
   ]
  },
  {
   "cell_type": "code",
   "execution_count": 39,
   "metadata": {},
   "outputs": [
    {
     "name": "stdout",
     "output_type": "stream",
     "text": [
      "169705\n",
      "78975\n"
     ]
    }
   ],
   "source": [
    "print(len(df_bjp))\n",
    "print(len(df_congress))"
   ]
  }
 ],
 "metadata": {
  "kernelspec": {
   "display_name": "Python 3",
   "language": "python",
   "name": "python3"
  },
  "language_info": {
   "codemirror_mode": {
    "name": "ipython",
    "version": 3
   },
   "file_extension": ".py",
   "mimetype": "text/x-python",
   "name": "python",
   "nbconvert_exporter": "python",
   "pygments_lexer": "ipython3",
   "version": "3.7.1"
  }
 },
 "nbformat": 4,
 "nbformat_minor": 2
}
