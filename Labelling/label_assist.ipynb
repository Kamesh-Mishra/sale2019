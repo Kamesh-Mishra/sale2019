{
 "cells": [
  {
   "cell_type": "code",
   "execution_count": null,
   "metadata": {},
   "outputs": [],
   "source": [
    "#This program was used to assist for manual labelling of tweets"
   ]
  },
  {
   "cell_type": "code",
   "execution_count": null,
   "metadata": {},
   "outputs": [],
   "source": [
    "import pandas as pd\n",
    "import numpy as np\n",
    "import matplotlib.pyplot as plt\n",
    "import re\n",
    "import random\n",
    "from nltk.sentiment.vader import SentimentIntensityAnalyzer as SIA"
   ]
  },
  {
   "cell_type": "code",
   "execution_count": null,
   "metadata": {},
   "outputs": [],
   "source": [
    "df=pd.read_csv('../Data/cleanTweets.csv',na_values={'None','NONE'},nrows=15000)\n",
    "\n",
    "df=df.replace(r'^\\s*$', np.nan, regex=True)\n",
    "df=df.fillna('')\n",
    "\n",
    "try:\n",
    "    df_label=pd.read_csv('../Data/labelledTweets.csv')\n",
    "except:\n",
    "    df_label=pd.DataFrame()\n",
    "\n",
    "count=0\n",
    "with open('status.txt','r') as f: #status of count of labelled tweets and index of next tweet to be labelled is saved in \n",
    "                                  #secondary storage\n",
    "    \n",
    "    ind,count=f.read().split('!##!') # \"!##!\" is being used as delimiter between count and index \n",
    "    ind=int(ind)\n",
    "    count=int(count)\n",
    "    print(ind,' ',count)"
   ]
  },
  {
   "cell_type": "code",
   "execution_count": null,
   "metadata": {},
   "outputs": [],
   "source": [
    "import warnings\n",
    "warnings.simplefilter('ignore')\n",
    "\n",
    "obj_vad=SIA() #\"VADER\" lexical anayzer is being used for assistance in labelling\n",
    "              #Although, here VADER only suggests a label for given tweet, ultimate decision is in the hands\n",
    "              #of person labelling tweets (person may accept a label suggested by VADER or may give some other \n",
    "              #label he/she deems suitable)\n",
    "prev=ind\n",
    "start=ind\n",
    "end=15000\n",
    "   \n",
    "for i in np.arange(start,end):\n",
    "    if df.loc[i,:]['full_text']=='':\n",
    "        s=df.loc[i,:]['text']\n",
    "    else:\n",
    "        s=df.loc[i,:]['full_text']\n",
    "    \n",
    "    pred=obj_vad.polarity_scores(text=s)\n",
    "    if pred['compound'] > 0:\n",
    "        lab='pos'\n",
    "    if pred['compound'] == 0:\n",
    "        lab='neu'  \n",
    "    if pred['compound'] < 0:\n",
    "        lab='neg'\n",
    "    \n",
    "    lab=pred[0]\n",
    "    print(i,' ',count,'\\n',lab,'\\n', s)\n",
    "\n",
    "    try:\n",
    "            opt=input()\n",
    "            if opt=='s': #save command\n",
    "                print('Last saved till index: ',prev,'and count: ',count )\n",
    "                break\n",
    "            else:\n",
    "                if opt=='8':#to accept label suggested by VADER \n",
    "                    df_label=df_label.append(pd.DataFrame(data={'text':[s],'labels':[lab]}),sort=True )\n",
    "                    count=count+1\n",
    "                else:#if VADER's label is incorrect, assign correct one\n",
    "\n",
    "                    if opt=='6': #assign positive label\n",
    "                        df_label=df_label.append(pd.DataFrame(data={'text':[s],'labels':['pos']}),sort=True )\n",
    "                        count=count+1\n",
    "                    if opt=='4': #assign negative label\n",
    "                        df_label=df_label.append(pd.DataFrame(data={'text':[s],'labels':['neg']}),sort=True )\n",
    "                        count=count+1\n",
    "                    if opt=='5': #assign neutral label\n",
    "                        df_label=df_label.append(pd.DataFrame(data={'text':[s],'labels':['neu']}),sort=True )\n",
    "                        count=count+1\n",
    "                       \n",
    "\n",
    "    except Exception as e:\n",
    "\n",
    "            print(e)\n",
    "            raise\n",
    "            \n",
    "    prev=i\n",
    "\n",
    "    \n",
    "df_label.to_csv('../Data/labelledTweets.csv',index=None,header=True)    \n",
    "\n",
    "with open('status.txt','w') as f:    \n",
    "    f.write(str(prev+1) + '!##!'+ str(count))"
   ]
  }
 ],
 "metadata": {
  "kernelspec": {
   "display_name": "Python 3",
   "language": "python",
   "name": "python3"
  },
  "language_info": {
   "codemirror_mode": {
    "name": "ipython",
    "version": 3
   },
   "file_extension": ".py",
   "mimetype": "text/x-python",
   "name": "python",
   "nbconvert_exporter": "python",
   "pygments_lexer": "ipython3",
   "version": "3.7.1"
  }
 },
 "nbformat": 4,
 "nbformat_minor": 2
}
