{
 "cells": [
  {
   "cell_type": "code",
   "execution_count": null,
   "metadata": {},
   "outputs": [],
   "source": [
    "#this program combines tweetsNonTranslation.csv and serverIndianLoc.csv and cleans text to produce pros_text (i.e processed)\n",
    "#text"
   ]
  },
  {
   "cell_type": "code",
   "execution_count": 1,
   "metadata": {},
   "outputs": [],
   "source": [
    "from clean import *"
   ]
  },
  {
   "cell_type": "code",
   "execution_count": null,
   "metadata": {},
   "outputs": [],
   "source": [
    "#combination\n",
    "A_id_str=pd.read_csv('tweetsNonTranslation.csv',usecols=['id_str'], engine='python',na_values={'None','NONE'}).fillna(0).astype(np.int64)\n",
    "B_id_str=pd.read_csv('serverIndianLoc.csv',usecols=['id_str'], engine='python',na_values={'None','NONE'}).fillna(0).astype(np.int64)\n",
    "\n",
    "a=pd.read_csv('tweetsByLoc.csv',dtype={'id':float}, engine='python')\n",
    "a['id_str']=A_id_str\n",
    "b=pd.read_csv('tweetsByTag.csv',dtype={'id':float},engine='python')\n",
    "b['id_str']=B_id_str\n",
    "\n",
    "a=a.fillna('')#replace nan with blank string (so that each field can be used as string by default without having to use str().\n",
    "b=b.fillna('')\n",
    "\n",
    "a=a.append(b,ignore_index=True)\n",
    "a['id']=pd.to_numeric(a['id'],errors='coerce')\n",
    "a=a.sort_values('id_str',)\n",
    "a=a.reset_index(drop=True"
   ]
  },
  {
   "cell_type": "code",
   "execution_count": null,
   "metadata": {},
   "outputs": [],
   "source": [
    "#cleaning\n",
    "a['pros_text']=a.apply(f_all,axis=1)\n",
    "\n",
    "a=a.loc[a.index[df['pros_text']!=' ']]#remove all rows having blank text field\n",
    "a=a.reset_index(drop=True)\n",
    "\n",
    "tokenizer = RegexpTokenizer(r'\\w+') #use alphanumeric (words) as tokens\n",
    "a['tokens']=a['pros_text'].apply(tokenizer.tokenize)\n",
    "\n",
    "a.to_csv('../Data/cleanTweets.csv',index=None,header=True)"
   ]
  }
 ],
 "metadata": {
  "kernelspec": {
   "display_name": "Python 3",
   "language": "python",
   "name": "python3"
  },
  "language_info": {
   "codemirror_mode": {
    "name": "ipython",
    "version": 3
   },
   "file_extension": ".py",
   "mimetype": "text/x-python",
   "name": "python",
   "nbconvert_exporter": "python",
   "pygments_lexer": "ipython3",
   "version": "3.7.1"
  }
 },
 "nbformat": 4,
 "nbformat_minor": 2
}
