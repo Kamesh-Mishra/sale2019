{
 "cells": [
  {
   "cell_type": "code",
   "execution_count": null,
   "metadata": {},
   "outputs": [],
   "source": [
    "#This program was used to append the CSVs of tweets filtered by location and by tag and do some other house-keeping tasks."
   ]
  },
  {
   "cell_type": "code",
   "execution_count": null,
   "metadata": {},
   "outputs": [],
   "source": [
    "import csv\n",
    "import json\n",
    "import pandas as pd\n",
    "import numpy as np\n",
    "import re\n",
    "import nltk\n",
    "import time\n",
    "import matplotlib.pyplot as plt\n",
    "from sys import argv\n",
    "from pprint import pprint\n",
    "from ast import literal_eval\n",
    "from langdetect import detect_langs\n",
    "from langdetect import DetectorFactory\n",
    "DetectorFactory.seed=0\n",
    "\n",
    "import fun_2"
   ]
  },
  {
   "cell_type": "code",
   "execution_count": null,
   "metadata": {},
   "outputs": [],
   "source": [
    "start_t=time.time()\n",
    "\n",
    "count=0\n",
    "A_id_str=pd.read_csv('tweetsByLoc.csv',usecols=['id_str'], engine='python',na_values={'None','NONE'}).fillna(0).astype(np.int64)\n",
    "B_id_str=pd.read_csv('tweetsByTag.csv',usecols=['id_str'], engine='python',na_values={'None','NONE'}).fillna(0).astype(np.int64)\n",
    "\n",
    "a=pd.read_csv('tweetsByLoc.csv',dtype={'id':float}, engine='python')\n",
    "a['id_str']=A_id_str\n",
    "b=pd.read_csv('tweetsByTag.csv',dtype={'id':float},engine='python')\n",
    "b['id_str']=B_id_str\n",
    "\n",
    "a=a.fillna('')#replace nan with blank string (so that each field can be used as string by default without having to use str().\n",
    "b=b.fillna('')"
   ]
  },
  {
   "cell_type": "code",
   "execution_count": null,
   "metadata": {},
   "outputs": [],
   "source": [
    "#print(a)\n",
    "#print(b)\n",
    "a=a.append(b,ignore_index=True)\n",
    "#print(a)\n",
    "a['id']=pd.to_numeric(a['id'],errors='coerce')\n",
    "a=a.sort_values('id_str',)\n",
    "a=a.reset_index(drop=True)\n",
    "\n",
    "#print(a['id_str'],a['user_screen_name'])"
   ]
  },
  {
   "cell_type": "code",
   "execution_count": null,
   "metadata": {},
   "outputs": [],
   "source": [
    "x=a.apply(fun_2.fun_lang2, axis=1)#since dataframe 'a' contains both \"filtered by language\" and \"filtered by tag\" tweets, \n",
    "                                  #so latter won't contain language information, so its language information is computed\n",
    "\n",
    "\n",
    "logic=list(map( lambda arg: arg[0], x ))\n",
    "trn=list(map( lambda arg: arg[1], x ))\n",
    "logic_=list(map( lambda arg: not arg, logic ))\n",
    "#list_count=list(map(lambda arg: arg[2],x))\n",
    "\n",
    "c=a.loc[(a.index[logic])]\n",
    "c['translate']=list(filter( None.__ne__,trn))\n",
    "d=a.loc[(a.index[logic_])]\n",
    "\n",
    "\n",
    "\n",
    "c['pros_text2']=c.apply(fun_2.f_clean2,axis=1)\n",
    "d['pros_text2']=d.apply(fun_2.f_clean2,axis=1)\n",
    "#In \"pros_text\" field, hashtag string was dropped along with '#'. Although, hashtag string is useful, so here new\n",
    "#field \"pros_text2\" was created which contains hashtag string (without '#'). Like in \"pros_text\", here also we\n",
    "#have removed mentions and urls. Whitespace compression has also been done.\n",
    "\n",
    "\n",
    "y=c.apply(lambda arg: True if arg['translate']==True else False , axis=1) \n",
    "\n",
    "df_trans=c.loc[c.index[y]]#all data that needs translation \n",
    "df_non_trans=c.loc[c.index[~y]]#all data that doesn't needs translation \n",
    "\n",
    "\n",
    "df_non_trans.to_csv('tweetsNonTranslation.csv',index=None,header=True)\n",
    "df_trans.to_csv('tweetsTranslation.csv',index=None,header=True)\n",
    "#d.to_csv('rejectedTweets.csv',index=None,header=True)"
   ]
  }
 ],
 "metadata": {
  "kernelspec": {
   "display_name": "Python 3",
   "language": "python",
   "name": "python3"
  },
  "language_info": {
   "codemirror_mode": {
    "name": "ipython",
    "version": 3
   },
   "file_extension": ".py",
   "mimetype": "text/x-python",
   "name": "python",
   "nbconvert_exporter": "python",
   "pygments_lexer": "ipython3",
   "version": "3.7.1"
  }
 },
 "nbformat": 4,
 "nbformat_minor": 2
}
